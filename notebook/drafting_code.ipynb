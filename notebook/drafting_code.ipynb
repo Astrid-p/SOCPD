{
 "cells": [
  {
   "cell_type": "code",
   "execution_count": null,
   "metadata": {},
   "outputs": [],
   "source": [
    "import numpy as np"
   ]
  },
  {
   "cell_type": "code",
   "execution_count": 10,
   "metadata": {},
   "outputs": [],
   "source": [
    "def single_concept(col,content):\n",
    "    k = 1\n",
    "    concept =''\n",
    "    for i in col:\n",
    "        concept += f'({i}'+f'[{content}])'\n",
    "        if k <len(col):\n",
    "            concept+= ' OR '\n",
    "        k+=1\n",
    "    if len(col) ==1:\n",
    "        return concept\n",
    "    else:\n",
    "        return f'({concept})'\n",
    "def bw_concept(concept1, concept2,connection):\n",
    "    return f'({concept1} {connection} {concept2})'\n",
    "\n",
    "def all_concept(listcc,connections):\n",
    "    query = listcc[0]\n",
    "    for cc, cn in zip(listcc[1:], connections):\n",
    "        query = bw_concept(query, cc, cn)\n",
    "    return query\n",
    "        \n",
    "\n",
    "\n",
    "def term_listing(str):\n",
    "    return str.split(',')\n"
   ]
  },
  {
   "cell_type": "code",
   "execution_count": 52,
   "metadata": {},
   "outputs": [
    {
     "data": {
      "text/plain": [
       "'((((self*isolation[Title/Abstract]) OR (self-confinement[Title/Abstract]) OR (quarantined[Title/Abstract]) OR (in quarantine[Title/Abstract]) OR (quarantine[Title/Abstract]) OR (social isolation[Title/Abstract])) AND ((mental health[Title]) OR (depression[Title]) OR (depressed[Title]) OR (depress*[Title]))) AND ((covid*[Title/Abstract]) OR (SARS-CoV-2[Title/Abstract]) OR (NCOV[Title/Abstract]) OR (sars-cov-2[Title/Abstract]) OR (coronavirus[Title/Abstract]) OR (lockdown*[Title/Abstract]) OR (lockdown polic*[Title/Abstract]) OR (pandemic[Title/Abstract])))'"
      ]
     },
     "execution_count": 52,
     "metadata": {},
     "output_type": "execute_result"
    }
   ],
   "source": [
    "#DONE\n",
    "exerc = \"exercise*,physical activit*,outdoor exposure,sport*\"\n",
    "negcoping = 'negative coping,negative coping behavior*,substance abuse*,alcohol,drinking'\n",
    "poscoping = 'positive thought*,positive thinking'\n",
    "wfh = 'work from home,home-based job, home-based work,work at home,remote work*'\n",
    "physdist = 'physical distancing,physical distance,1*5 meters'\n",
    "socialOnl = 'social online,socializing online,online contact,online connection*,virtual contact,virtual interaction*,non–face-to-face social interaction*,non–face-to-face contact,remote contact,digital technology use,electronic contact,electronic social contact,electronic interaction,video-based communication,video-based interaction'\n",
    "travel = 'traveling,travel,vacation*,holiday'\n",
    "socialize = 'socializing,socialize,meet friend*,meet people,meeting people,meeting friend*,social interact*,social contact,face*to*face contact,face*to*face interaction*,in*person contact,in*person interaction*,physical contact'\n",
    "\n",
    "# Pending\n",
    "seek_help = 'socially connected,social support,social cohesion'\n",
    "stayathome = 'self*isolation,self-confinement,quarantined,in quarantine,quarantine,social isolation'\n",
    "\n",
    "\n",
    "mh = \"mental health,depression,depressed,depress*\"\n",
    "covid = \"covid*,SARS-CoV-2,NCOV,sars-cov-2,coronavirus,lockdown*,lockdown polic*,pandemic\"\n",
    "\n",
    "meta = 'meta-analysis,meta analysis'\n",
    "\n",
    "\n",
    "exerc = single_concept(term_listing(exerc), 'Title')\n",
    "negcoping = single_concept(term_listing(negcoping), 'Title/Abstract')\n",
    "poscoping = single_concept(term_listing(poscoping), 'Title/Abstract')\n",
    "wfh = single_concept(term_listing(wfh), 'Title/Abstract')\n",
    "physdist =single_concept(term_listing(physdist), 'Title/Abstract')\n",
    "socialOnl = single_concept(term_listing(socialOnl), 'Title/Abstract')\n",
    "travel = single_concept(term_listing(travel), 'Title/Abstract')\n",
    "socialize = single_concept(term_listing(socialize), 'Title/Abstract')\n",
    "\n",
    "seek_help = single_concept(term_listing(seek_help), 'Title/Abstract')\n",
    "stayathome = single_concept(term_listing(stayathome), 'Title/Abstract')\n",
    "\n",
    "mh = single_concept(term_listing(mh), 'Title')\n",
    "covid = single_concept(term_listing(covid), 'Title/Abstract')\n",
    "meta = single_concept(term_listing(meta), 'Title/Abstract')\n",
    "\n",
    "query = all_concept([stayathome,mh, covid],['AND', 'AND'])\n",
    "\n",
    "# Travel\n",
    "# query = all_concept([travel,mh],['AND'])\n",
    "query\n",
    "\n"
   ]
  },
  {
   "cell_type": "markdown",
   "metadata": {},
   "source": [
    "### Extract data from Regression\n"
   ]
  },
  {
   "cell_type": "code",
   "execution_count": 25,
   "metadata": {},
   "outputs": [
    {
     "name": "stdout",
     "output_type": "stream",
     "text": [
      "0;-0.109;-0.092;0.128;0.065;-0.212;0;-0.573;0;-0.229;0.430;0;0.232;0;-0.415;0;-0.124;-0.200;0;0.218;0;-0.249;0;0.173;0.066;0.110;0.065;0;-0.736;-0.319;0.255;0.576;0;0.523;0;3.987;0;-0.051;-0.051;0.042;0;0.580;0.196;-0.064;-0.049;-0.096;-0.130;-3.618\n"
     ]
    }
   ],
   "source": [
    "input_text = \"\"\"-0.109\n",
    "-0.092\n",
    "0.128\n",
    "0.065\n",
    "-0.212\n",
    ";\n",
    "\n",
    "-0.573\n",
    "\n",
    ";\n",
    "-0.229\n",
    "0.430\n",
    ";\n",
    "\n",
    "0.232\n",
    ";\n",
    "-0.415\n",
    "\n",
    ";\n",
    "-0.124\n",
    "-0.200\n",
    ";\n",
    "\n",
    "0.218\n",
    "\n",
    ";\n",
    "-0.249\n",
    ";\n",
    "\n",
    "0.173\n",
    "0.066\n",
    "0.110\n",
    "0.065\n",
    ";\n",
    "-0.736\n",
    "-0.319\n",
    "0.255\n",
    "0.576\n",
    "\n",
    ";\n",
    "0.523\n",
    ";\n",
    "\n",
    "3.987\n",
    ";\n",
    "-0.051\n",
    "-0.051\n",
    "0.042\n",
    "\n",
    ";\n",
    "0.580\n",
    "0.196\n",
    "-0.064\n",
    "-0.049\n",
    ";\n",
    "\n",
    "-0.096\n",
    "-0.130\n",
    ";\n",
    "-3.618\n",
    "\"\"\"\n",
    "\n",
    "dimension = [6,2,3,2,2,3,2,2,5,5,2,2,4,5,2,1]\n",
    "# Split the input text into individual values\n",
    "\n",
    "data = input_text.split(\";\")\n",
    "result = []\n",
    "for i, gr in enumerate(data):\n",
    "   gr_data = gr.strip().split()\n",
    "   missing = dimension[i]-len(gr_data)\n",
    "   result += [\"0\"]*missing+gr_data\n",
    "row = \";\".join(result)\n",
    "print(row)"
   ]
  },
  {
   "cell_type": "code",
   "execution_count": 16,
   "metadata": {},
   "outputs": [
    {
     "data": {
      "text/plain": [
       "['-0.109\\n-0.092\\n0.128\\n0.065\\n-0.212\\n',\n",
       " '\\n\\n-0.573\\n\\n',\n",
       " '\\n-0.229\\n0.430\\n',\n",
       " '\\n\\n0.232\\n-0.415\\n\\n',\n",
       " '\\n-0.124\\n-0.200\\n',\n",
       " '\\n\\n0.218\\n\\n',\n",
       " '\\n-0.249\\n',\n",
       " '\\n\\n0.173\\n0.066\\n0.110\\n0.065\\n',\n",
       " '\\n-0.736\\n-0.319\\n0.255\\n0.576\\n\\n',\n",
       " '\\n0.523\\n',\n",
       " '\\n\\n3.987\\n',\n",
       " '\\n-0.051\\n-0.051\\n0.042\\n\\n',\n",
       " '\\n0.580\\n0.196\\n-0.064\\n-0.049\\n',\n",
       " '\\n\\n-0.096\\n-0.130\\n',\n",
       " '\\n-3.618\\n']"
      ]
     },
     "execution_count": 16,
     "metadata": {},
     "output_type": "execute_result"
    }
   ],
   "source": [
    "data"
   ]
  },
  {
   "cell_type": "code",
   "execution_count": 14,
   "metadata": {},
   "outputs": [
    {
     "data": {
      "text/plain": [
       "15"
      ]
     },
     "execution_count": 14,
     "metadata": {},
     "output_type": "execute_result"
    }
   ],
   "source": [
    "len(data)"
   ]
  },
  {
   "cell_type": "code",
   "execution_count": 9,
   "metadata": {},
   "outputs": [
    {
     "data": {
      "text/plain": [
       "17"
      ]
     },
     "execution_count": 9,
     "metadata": {},
     "output_type": "execute_result"
    }
   ],
   "source": [
    "len(dimension)"
   ]
  },
  {
   "cell_type": "code",
   "execution_count": 4,
   "metadata": {},
   "outputs": [],
   "source": [
    "import pandas as pd\n",
    "import numpy as np"
   ]
  },
  {
   "cell_type": "code",
   "execution_count": null,
   "metadata": {},
   "outputs": [],
   "source": []
  },
  {
   "cell_type": "code",
   "execution_count": 1,
   "metadata": {},
   "outputs": [
    {
     "data": {
      "text/plain": [
       "3.0"
      ]
     },
     "execution_count": 1,
     "metadata": {},
     "output_type": "execute_result"
    }
   ],
   "source": [
    "27**(1/3)"
   ]
  },
  {
   "cell_type": "code",
   "execution_count": 4,
   "metadata": {},
   "outputs": [
    {
     "data": {
      "text/plain": [
       "[0, 1, 2, 2, 2]"
      ]
     },
     "execution_count": 4,
     "metadata": {},
     "output_type": "execute_result"
    }
   ],
   "source": [
    "a = []\n",
    "a.extend(range(2))\n",
    "a.extend([2]*3)\n",
    "a"
   ]
  },
  {
   "cell_type": "code",
   "execution_count": 2,
   "metadata": {},
   "outputs": [
    {
     "data": {
      "text/plain": [
       "0"
      ]
     },
     "execution_count": 2,
     "metadata": {},
     "output_type": "execute_result"
    }
   ],
   "source": [
    "import pandas as pd\n",
    "features = pd.Series([1,0,1,0,1,0,1], index = ['bs', 'age1', 'age2', 'vegetarian_no', 'vegetarian_yes', 'children_no', 'children_yes'])\n",
    "status_var  ='vegetarian'\n",
    "features[\"age1\"]\n"
   ]
  },
  {
   "cell_type": "code",
   "execution_count": 9,
   "metadata": {},
   "outputs": [],
   "source": [
    "def change_features(status, features):\n",
    "    if status: \n",
    "        features[features.index.str.contains(pat = f'{status_var}')] = [0,1]\n",
    "    else:\n",
    "        features[features.index.str.contains(pat = f'{status_var}')] = [1,0]   \n",
    "\n",
    "status = False\n",
    "change_features(status, features)"
   ]
  },
  {
   "cell_type": "code",
   "execution_count": 3,
   "metadata": {},
   "outputs": [],
   "source": [
    "import pandas as pd"
   ]
  },
  {
   "cell_type": "code",
   "execution_count": 4,
   "metadata": {},
   "outputs": [],
   "source": [
    "class agent():\n",
    "    def __init__(self, status, features, status_var):\n",
    "        self.status = status\n",
    "        self.features = features\n",
    "        self.status_var = status_var\n",
    "    \n",
    "    def change_features(self):\n",
    "        if self.status: \n",
    "            self.features[self.features.index.str.contains(pat = f'{self.status_var}')] = [0,1]\n",
    "        else:\n",
    "            self.features[self.features.index.str.contains(pat = f'{self.status_var}')] = [1,0]   \n",
    "\n",
    "    "
   ]
  },
  {
   "cell_type": "code",
   "execution_count": 5,
   "metadata": {},
   "outputs": [
    {
     "data": {
      "text/plain": [
       "bs                1\n",
       "age1              0\n",
       "age2              1\n",
       "vegetarian_no     0\n",
       "vegetarian_yes    1\n",
       "children_no       0\n",
       "children_yes      1\n",
       "dtype: int64"
      ]
     },
     "execution_count": 5,
     "metadata": {},
     "output_type": "execute_result"
    }
   ],
   "source": [
    "features = pd.Series([1,0,1,0,1,0,1], index = ['bs', 'age1', 'age2', 'vegetarian_no', 'vegetarian_yes', 'children_no', 'children_yes'])\n",
    "status = False\n",
    "status_var  ='vegetarian'\n",
    "features"
   ]
  },
  {
   "cell_type": "code",
   "execution_count": 8,
   "metadata": {},
   "outputs": [
    {
     "data": {
      "text/plain": [
       "bs                1\n",
       "age1              0\n",
       "age2              1\n",
       "vegetarian_no     1\n",
       "vegetarian_yes    0\n",
       "children_no       0\n",
       "children_yes      1\n",
       "dtype: int64"
      ]
     },
     "execution_count": 8,
     "metadata": {},
     "output_type": "execute_result"
    }
   ],
   "source": [
    "agent1 = agent(False, features, status_var)\n",
    "agent1.change_features()\n",
    "agent1.features"
   ]
  },
  {
   "cell_type": "code",
   "execution_count": 25,
   "metadata": {},
   "outputs": [
    {
     "data": {
      "text/plain": [
       "'r'"
      ]
     },
     "execution_count": 25,
     "metadata": {},
     "output_type": "execute_result"
    }
   ],
   "source": [
    "dict_ = {True:'r', False : 'g'}\n",
    "dict_[True]"
   ]
  },
  {
   "cell_type": "code",
   "execution_count": 33,
   "metadata": {},
   "outputs": [
    {
     "data": {
      "text/plain": [
       "<random.Random at 0x2a2be738d20>"
      ]
     },
     "execution_count": 33,
     "metadata": {},
     "output_type": "execute_result"
    }
   ],
   "source": [
    "import random\n",
    "\n",
    "seed = random.getrandbits(128)\n",
    "random.Random(seed)"
   ]
  },
  {
   "cell_type": "code",
   "execution_count": 34,
   "metadata": {},
   "outputs": [
    {
     "data": {
      "text/plain": [
       "(-1, 5)"
      ]
     },
     "execution_count": 34,
     "metadata": {},
     "output_type": "execute_result"
    }
   ],
   "source": [
    "import numpy as np\n",
    "tuple(np.array([1,3])+np.array([-2,2]))"
   ]
  },
  {
   "cell_type": "code",
   "execution_count": 122,
   "metadata": {},
   "outputs": [
    {
     "name": "stdout",
     "output_type": "stream",
     "text": [
      "[[1.3 1.1 0.3]\n",
      " [1.6 0.  1.4]]\n",
      "[[1.3]\n",
      " [1.6]]\n",
      "0.0\n"
     ]
    }
   ],
   "source": [
    "import pandas as pd\n",
    "import numpy as np\n",
    "features = pd.Series([1,0,1,0,1,0,1], index = ['bs', 'age1', 'age2', 'vegetarian_no', 'vegetarian_yes', 'children_no', 'children_yes'])\n",
    "neigbors1 = pd.DataFrame(data = { 'bs':[1, 0.5, 0],\n",
    "                          'age1' :[0.1, 0.2, 0], \n",
    "                          'age2':[0.1, 0.2, 0.3], \n",
    "                          'vegetarian_no':[0.1, 0.2,0], \n",
    "                          'vegetarian_yes':[0.1,0.2,0],\n",
    "                          'children_no' :[0.1,0.2,0],\n",
    "                          'children_yes':[0.1,0.2,0],\n",
    "                         'actions' : ['moving', 'veg', 'om']}).set_index('actions')\n",
    "neigbors2 = pd.DataFrame(data = { 'bs':[1, 0, 0.5],\n",
    "                          'age1' :[0.1, 0, 0.3], \n",
    "                          'age2':[0.1, 0, 0.3], \n",
    "                          'vegetarian_no':[0.1, 0,0.3], \n",
    "                          'vegetarian_yes':[0.1,0,0.3],\n",
    "                          'children_no' :[0.1,0,0.3],\n",
    "                          'children_yes':[0.4,0,0.3],\n",
    "                         'actions' : ['moving', 'veg', 'om']}).set_index('actions')\n",
    "prfs = [neigbors1,neigbors2]\n",
    "result = np.array(prfs).dot(features)\n",
    "print(result)\n",
    "print(result[:, mask])\n",
    "\n",
    "mask = np.isin(neigbors1.index, [])\n",
    "\n",
    "# Index the columns based on the mask\n",
    "_neigh_score_move = np.sum(result[:, mask])\n",
    "print(_neigh_score_move)\n"
   ]
  },
  {
   "cell_type": "code",
   "execution_count": 16,
   "metadata": {},
   "outputs": [
    {
     "data": {
      "text/plain": [
       "Index(['moving', 'veg', 'om'], dtype='object', name='actions')"
      ]
     },
     "execution_count": 16,
     "metadata": {},
     "output_type": "execute_result"
    }
   ],
   "source": [
    "neigbors1.index"
   ]
  },
  {
   "cell_type": "code",
   "execution_count": 34,
   "metadata": {},
   "outputs": [
    {
     "data": {
      "text/plain": [
       "1.0"
      ]
     },
     "execution_count": 34,
     "metadata": {},
     "output_type": "execute_result"
    }
   ],
   "source": [
    "sum([0.36, 0.31, 0.17, 0.15, 0.01])"
   ]
  },
  {
   "cell_type": "code",
   "execution_count": null,
   "metadata": {},
   "outputs": [],
   "source": []
  },
  {
   "cell_type": "code",
   "execution_count": null,
   "metadata": {},
   "outputs": [],
   "source": [
    "\"\"\"-4.28391981\n",
    "0.095615284\n",
    "0.346503212\n",
    "0.034807466\n",
    "-0.477086146\n",
    "0.015070726\n",
    "1.015501064\n",
    "-0.466270405\n",
    "-0.204207655\n",
    "-0.360253913\n",
    "-0.427038465\n",
    "0.380751044\n",
    "0.790711968\n",
    "-0.049356888\n",
    "-0.646125257\n",
    "0.948016543\n",
    "-0.948176727\n",
    "0.536693187\n",
    "0.055711864\n",
    "-0.565934092\n",
    "0.263342013\n",
    "-0.68801958\n",
    "0.487015224\"\"\"\n"
   ]
  },
  {
   "cell_type": "code",
   "execution_count": 1,
   "metadata": {},
   "outputs": [],
   "source": [
    "import numpy as np\n",
    "import pandas as pd\n",
    "import random"
   ]
  },
  {
   "cell_type": "code",
   "execution_count": 2,
   "metadata": {},
   "outputs": [
    {
     "data": {
      "text/plain": [
       "array([0.358, 0.314, 0.176, 0.138, 0.013])"
      ]
     },
     "execution_count": 2,
     "metadata": {},
     "output_type": "execute_result"
    }
   ],
   "source": [
    "a= np.array([0.189, 0.166, 0.093, 0.073, 0.007])\n",
    "np.round(a/a.sum(), 3)\n"
   ]
  },
  {
   "cell_type": "code",
   "execution_count": 7,
   "metadata": {},
   "outputs": [
    {
     "data": {
      "text/plain": [
       "array([ 2,  2, -2])"
      ]
     },
     "execution_count": 7,
     "metadata": {},
     "output_type": "execute_result"
    }
   ],
   "source": [
    "choice = [2,-2]\n",
    "np.array([random.choice(choice), random.choice(choice), random.choice(choice)])"
   ]
  },
  {
   "cell_type": "code",
   "execution_count": 17,
   "metadata": {},
   "outputs": [
    {
     "data": {
      "text/plain": [
       "[actions\n",
       " moving    1.3\n",
       " veg       1.1\n",
       " om        0.3\n",
       " dtype: float64,\n",
       " actions\n",
       " moving    1.5\n",
       " veg       0.0\n",
       " om        1.4\n",
       " dtype: float64]"
      ]
     },
     "execution_count": 17,
     "metadata": {},
     "output_type": "execute_result"
    }
   ],
   "source": [
    "result_nw = [p.dot(features) for p in prfs]\n",
    "result_nw"
   ]
  },
  {
   "cell_type": "code",
   "execution_count": 79,
   "metadata": {},
   "outputs": [
    {
     "data": {
      "text/plain": [
       "array([[[1. , 0.1, 0.1, 0.1, 0.1, 0.1, 0.1],\n",
       "        [0.5, 0.2, 0.2, 0.2, 0.2, 0.2, 0.2],\n",
       "        [0. , 0. , 0.3, 0. , 0. , 0. , 0. ]],\n",
       "\n",
       "       [[1. , 0.1, 0.1, 0.1, 0.1, 0.1, 0.3],\n",
       "        [0. , 0. , 0. , 0. , 0. , 0. , 0. ],\n",
       "        [0.5, 0.3, 0.3, 0.3, 0.3, 0.3, 0.3]]])"
      ]
     },
     "execution_count": 79,
     "metadata": {},
     "output_type": "execute_result"
    }
   ],
   "source": [
    "prfs_a= np.array(prfs)\n",
    "prfs_a"
   ]
  },
  {
   "cell_type": "code",
   "execution_count": 92,
   "metadata": {},
   "outputs": [
    {
     "data": {
      "text/plain": [
       "15"
      ]
     },
     "execution_count": 92,
     "metadata": {},
     "output_type": "execute_result"
    }
   ],
   "source": [
    "np.finfo(np.longdouble).precision"
   ]
  },
  {
   "cell_type": "code",
   "execution_count": 98,
   "metadata": {},
   "outputs": [
    {
     "data": {
      "text/html": [
       "<div>\n",
       "<style scoped>\n",
       "    .dataframe tbody tr th:only-of-type {\n",
       "        vertical-align: middle;\n",
       "    }\n",
       "\n",
       "    .dataframe tbody tr th {\n",
       "        vertical-align: top;\n",
       "    }\n",
       "\n",
       "    .dataframe thead th {\n",
       "        text-align: right;\n",
       "    }\n",
       "</style>\n",
       "<table border=\"1\" class=\"dataframe\">\n",
       "  <thead>\n",
       "    <tr style=\"text-align: right;\">\n",
       "      <th></th>\n",
       "      <th>bs</th>\n",
       "      <th>age1</th>\n",
       "      <th>age2</th>\n",
       "      <th>vegetarian_no</th>\n",
       "      <th>vegetarian_yes</th>\n",
       "      <th>children_no</th>\n",
       "      <th>children_yes</th>\n",
       "    </tr>\n",
       "    <tr>\n",
       "      <th>actions</th>\n",
       "      <th></th>\n",
       "      <th></th>\n",
       "      <th></th>\n",
       "      <th></th>\n",
       "      <th></th>\n",
       "      <th></th>\n",
       "      <th></th>\n",
       "    </tr>\n",
       "  </thead>\n",
       "  <tbody>\n",
       "    <tr>\n",
       "      <th>moving</th>\n",
       "      <td>1.0</td>\n",
       "      <td>0.1</td>\n",
       "      <td>0.1</td>\n",
       "      <td>0.1</td>\n",
       "      <td>0.1</td>\n",
       "      <td>0.1</td>\n",
       "      <td>0.3</td>\n",
       "    </tr>\n",
       "    <tr>\n",
       "      <th>veg</th>\n",
       "      <td>0.0</td>\n",
       "      <td>0.0</td>\n",
       "      <td>0.0</td>\n",
       "      <td>0.0</td>\n",
       "      <td>0.0</td>\n",
       "      <td>0.0</td>\n",
       "      <td>0.0</td>\n",
       "    </tr>\n",
       "    <tr>\n",
       "      <th>om</th>\n",
       "      <td>0.5</td>\n",
       "      <td>0.3</td>\n",
       "      <td>0.3</td>\n",
       "      <td>0.3</td>\n",
       "      <td>0.3</td>\n",
       "      <td>0.3</td>\n",
       "      <td>0.3</td>\n",
       "    </tr>\n",
       "  </tbody>\n",
       "</table>\n",
       "</div>"
      ],
      "text/plain": [
       "          bs  age1  age2  vegetarian_no  vegetarian_yes  children_no  \\\n",
       "actions                                                                \n",
       "moving   1.0   0.1   0.1            0.1             0.1          0.1   \n",
       "veg      0.0   0.0   0.0            0.0             0.0          0.0   \n",
       "om       0.5   0.3   0.3            0.3             0.3          0.3   \n",
       "\n",
       "         children_yes  \n",
       "actions                \n",
       "moving            0.3  \n",
       "veg               0.0  \n",
       "om                0.3  "
      ]
     },
     "execution_count": 98,
     "metadata": {},
     "output_type": "execute_result"
    }
   ],
   "source": [
    "params_self"
   ]
  },
  {
   "cell_type": "code",
   "execution_count": 23,
   "metadata": {},
   "outputs": [
    {
     "name": "stdout",
     "output_type": "stream",
     "text": [
      "[1.5 0.  1.4]\n",
      "Index(['moving', 'veg', 'om'], dtype='object', name='actions')\n"
     ]
    },
    {
     "data": {
      "text/plain": [
       "(1.5000000000000002, 2.9000000000000004)"
      ]
     },
     "execution_count": 23,
     "metadata": {},
     "output_type": "execute_result"
    }
   ],
   "source": [
    "np.set_printoptions(precision=2)\n",
    "params_self = pd.DataFrame(data = { 'bs':[1, 0, 0.5],\n",
    "                          'age1' :[0.1, 0, 0.3], \n",
    "                          'age2':[0.1, 0, 0.3], \n",
    "                          'vegetarian_no':[0.1, 0,0.3], \n",
    "                          'vegetarian_yes':[0.1,0,0.3],\n",
    "                          'children_no' :[0.1,0,0.3],\n",
    "                          'children_yes':[0.3,0,0.3],\n",
    "                         'actions' : ['moving', 'veg', 'om']}).set_index('actions')\n",
    "params_self = params_self.astype(float)\n",
    "features = pd.Series([1,0,1,0,1,0,1], index = ['bs', 'age1', 'age2', 'vegetarian_no', 'vegetarian_yes', 'children_no', 'children_yes'])\n",
    "_score_self = np.array(params_self).dot(np.array(features))\n",
    "mask = np.isin(params_self.index,['moving'])\n",
    "print(_score_self)\n",
    "print(params_self.index)\n",
    "_sum_score_self_move = np.sum(_score_self[mask])\n",
    "_sum_score_self = np.sum(_score_self)\n",
    "_sum_score_self_move , _sum_score_self"
   ]
  },
  {
   "cell_type": "code",
   "execution_count": 15,
   "metadata": {},
   "outputs": [
    {
     "ename": "NameError",
     "evalue": "name 'prfs_a' is not defined",
     "output_type": "error",
     "traceback": [
      "\u001b[1;31m---------------------------------------------------------------------------\u001b[0m",
      "\u001b[1;31mNameError\u001b[0m                                 Traceback (most recent call last)",
      "\u001b[1;32mc:\\Users\\pham027\\OneDrive - Wageningen University & Research\\3. Planetary diet\\4. ABM\\SoCPD_28Sep_optimized\\SOCPD\\notebook\\drafting_code.ipynb Cell 21\u001b[0m line \u001b[0;36m1\n\u001b[1;32m----> <a href='vscode-notebook-cell:/c%3A/Users/pham027/OneDrive%20-%20Wageningen%20University%20%26%20Research/3.%20Planetary%20diet/4.%20ABM/SoCPD_28Sep_optimized/SOCPD/notebook/drafting_code.ipynb#X26sZmlsZQ%3D%3D?line=0'>1</a>\u001b[0m _neigh_scores \u001b[39m=\u001b[39m prfs_a\u001b[39m.\u001b[39mdot(features)\n\u001b[0;32m      <a href='vscode-notebook-cell:/c%3A/Users/pham027/OneDrive%20-%20Wageningen%20University%20%26%20Research/3.%20Planetary%20diet/4.%20ABM/SoCPD_28Sep_optimized/SOCPD/notebook/drafting_code.ipynb#X26sZmlsZQ%3D%3D?line=1'>2</a>\u001b[0m \u001b[39mprint\u001b[39m(_neigh_scores)\n\u001b[0;32m      <a href='vscode-notebook-cell:/c%3A/Users/pham027/OneDrive%20-%20Wageningen%20University%20%26%20Research/3.%20Planetary%20diet/4.%20ABM/SoCPD_28Sep_optimized/SOCPD/notebook/drafting_code.ipynb#X26sZmlsZQ%3D%3D?line=2'>3</a>\u001b[0m actions_nw \u001b[39m=\u001b[39m neigbors1\u001b[39m.\u001b[39mindex\n",
      "\u001b[1;31mNameError\u001b[0m: name 'prfs_a' is not defined"
     ]
    }
   ],
   "source": [
    "_neigh_scores = prfs_a.dot(features)\n",
    "print(_neigh_scores)\n",
    "actions_nw = neigbors1.index\n",
    "nw_decisions_to_move = ['moving']\n",
    "\n",
    "# Create a boolean mask for the selected labels\n",
    "mask = np.isin(actions_nw, nw_decisions_to_move)\n",
    "\n",
    "# Index the columns based on the mask\n",
    "_neigh_score_move = np.sum(result[:, mask], axis = 1)\n",
    "print(_neigh_score_move)"
   ]
  },
  {
   "cell_type": "code",
   "execution_count": 42,
   "metadata": {},
   "outputs": [
    {
     "data": {
      "text/plain": [
       "1.3"
      ]
     },
     "execution_count": 42,
     "metadata": {},
     "output_type": "execute_result"
    }
   ],
   "source": [
    "np.sum([1.3])"
   ]
  },
  {
   "cell_type": "code",
   "execution_count": 46,
   "metadata": {},
   "outputs": [
    {
     "data": {
      "text/html": [
       "<div>\n",
       "<style scoped>\n",
       "    .dataframe tbody tr th:only-of-type {\n",
       "        vertical-align: middle;\n",
       "    }\n",
       "\n",
       "    .dataframe tbody tr th {\n",
       "        vertical-align: top;\n",
       "    }\n",
       "\n",
       "    .dataframe thead th {\n",
       "        text-align: right;\n",
       "    }\n",
       "</style>\n",
       "<table border=\"1\" class=\"dataframe\">\n",
       "  <thead>\n",
       "    <tr style=\"text-align: right;\">\n",
       "      <th></th>\n",
       "      <th>bs</th>\n",
       "      <th>age1</th>\n",
       "      <th>age2</th>\n",
       "      <th>vegetarian_no</th>\n",
       "      <th>vegetarian_yes</th>\n",
       "      <th>children_no</th>\n",
       "      <th>children_yes</th>\n",
       "    </tr>\n",
       "    <tr>\n",
       "      <th>actions</th>\n",
       "      <th></th>\n",
       "      <th></th>\n",
       "      <th></th>\n",
       "      <th></th>\n",
       "      <th></th>\n",
       "      <th></th>\n",
       "      <th></th>\n",
       "    </tr>\n",
       "  </thead>\n",
       "  <tbody>\n",
       "    <tr>\n",
       "      <th>moving</th>\n",
       "      <td>1.0</td>\n",
       "      <td>0.1</td>\n",
       "      <td>0.1</td>\n",
       "      <td>0.1</td>\n",
       "      <td>0.1</td>\n",
       "      <td>0.1</td>\n",
       "      <td>0.1</td>\n",
       "    </tr>\n",
       "    <tr>\n",
       "      <th>veg</th>\n",
       "      <td>0.5</td>\n",
       "      <td>0.2</td>\n",
       "      <td>0.2</td>\n",
       "      <td>0.2</td>\n",
       "      <td>0.2</td>\n",
       "      <td>0.2</td>\n",
       "      <td>0.2</td>\n",
       "    </tr>\n",
       "    <tr>\n",
       "      <th>om</th>\n",
       "      <td>0.0</td>\n",
       "      <td>0.0</td>\n",
       "      <td>0.3</td>\n",
       "      <td>0.0</td>\n",
       "      <td>0.0</td>\n",
       "      <td>0.0</td>\n",
       "      <td>0.0</td>\n",
       "    </tr>\n",
       "  </tbody>\n",
       "</table>\n",
       "</div>"
      ],
      "text/plain": [
       "          bs  age1  age2  vegetarian_no  vegetarian_yes  children_no  \\\n",
       "actions                                                                \n",
       "moving   1.0   0.1   0.1            0.1             0.1          0.1   \n",
       "veg      0.5   0.2   0.2            0.2             0.2          0.2   \n",
       "om       0.0   0.0   0.3            0.0             0.0          0.0   \n",
       "\n",
       "         children_yes  \n",
       "actions                \n",
       "moving            0.1  \n",
       "veg               0.2  \n",
       "om                0.0  "
      ]
     },
     "execution_count": 46,
     "metadata": {},
     "output_type": "execute_result"
    }
   ],
   "source": [
    "neigbors1"
   ]
  },
  {
   "cell_type": "code",
   "execution_count": 96,
   "metadata": {},
   "outputs": [
    {
     "data": {
      "text/plain": [
       "Index(['bs', 'age1', 'age2', 'vegetarian_no', 'vegetarian_yes', 'children_no',\n",
       "       'children_yes'],\n",
       "      dtype='object')"
      ]
     },
     "execution_count": 96,
     "metadata": {},
     "output_type": "execute_result"
    }
   ],
   "source": [
    "params_self.columns"
   ]
  },
  {
   "cell_type": "code",
   "execution_count": null,
   "metadata": {},
   "outputs": [],
   "source": [
    "np.dot\n"
   ]
  },
  {
   "cell_type": "code",
   "execution_count": 126,
   "metadata": {},
   "outputs": [
    {
     "name": "stdout",
     "output_type": "stream",
     "text": [
      "[[1.  0.  0.1 0.  0.1 0.  0.3]\n",
      " [0.4 0.  0.  0.  0.  0.  0.2]\n",
      " [0.5 0.  0.3 0.  0.3 0.  0.3]]\n",
      "[[1.  0.  0.1 0.  0.1 0.  0.3]\n",
      " [0.  0.  0.  0.  0.  0.  0. ]\n",
      " [0.5 0.  0.3 0.  0.3 0.  0.3]]\n",
      "[1.5 0.  1.4]\n",
      "[1.5 0.  1.4]\n"
     ]
    }
   ],
   "source": [
    "# test creating influecing profile (zero-out)by numpy\n",
    "params_self = pd.DataFrame(data = { 'bs':[1, .4, 0.5],\n",
    "                          'age1' :[0.1, 0.2, 0.3], \n",
    "                          'age2':[0.1, 0, 0.3], \n",
    "                          'vegetarian_no':[0.1, 0,0.3], \n",
    "                          'vegetarian_yes':[0.1,0,0.3],\n",
    "                          'children_no' :[0.1,0.3,0.3],\n",
    "                          'children_yes':[0.3,0.2,0.3],\n",
    "                         'actions' : ['moving', 'veg', 'om']}).set_index('actions')\n",
    "\n",
    "features = pd.Series([1,0,1,0,1,0,1], index = ['bs', 'age1', 'age2', 'vegetarian_no', 'vegetarian_yes', 'children_no', 'children_yes'])\n",
    "_influencing_profile = np.multiply(np.array(params_self), np.array(features))\n",
    "\n",
    "print(_influencing_profile)\n",
    "masked_neg = np.isin(params_self.index, ['veg'])\n",
    "_influencing_profile[masked_neg,:] =0\n",
    "print(_influencing_profile)\n",
    "print(_influencing_profile.dot(np.array(features)))\n",
    "print(np.dot(_influencing_profile,np.array(features)))"
   ]
  },
  {
   "cell_type": "code",
   "execution_count": 125,
   "metadata": {},
   "outputs": [],
   "source": [
    "def lowerlist(l):\n",
    "    if len(l) ==0:\n",
    "        return \n",
    "    else:\n",
    "        \n",
    "        return [e.lower() for e in l]\n",
    "lowerlist([])"
   ]
  },
  {
   "cell_type": "code",
   "execution_count": 121,
   "metadata": {},
   "outputs": [
    {
     "data": {
      "text/plain": [
       "(array([False,  True, False]), array([ True, False,  True]))"
      ]
     },
     "execution_count": 121,
     "metadata": {},
     "output_type": "execute_result"
    }
   ],
   "source": [
    "masked_neg, ~masked_neg"
   ]
  },
  {
   "cell_type": "code",
   "execution_count": 116,
   "metadata": {},
   "outputs": [
    {
     "ename": "AttributeError",
     "evalue": "'numpy.ndarray' object has no attribute 'multiply'",
     "output_type": "error",
     "traceback": [
      "\u001b[1;31m---------------------------------------------------------------------------\u001b[0m",
      "\u001b[1;31mAttributeError\u001b[0m                            Traceback (most recent call last)",
      "\u001b[1;32mc:\\Users\\pham027\\OneDrive - Wageningen University & Research\\3. Planetary diet\\4. ABM\\SoCPD_26Sep\\notebook\\drafting_code.ipynb Cell 21\u001b[0m line \u001b[0;36m1\n\u001b[1;32m----> <a href='vscode-notebook-cell:/c%3A/Users/pham027/OneDrive%20-%20Wageningen%20University%20%26%20Research/3.%20Planetary%20diet/4.%20ABM/SoCPD_26Sep/notebook/drafting_code.ipynb#X61sZmlsZQ%3D%3D?line=0'>1</a>\u001b[0m _influencing_profile \u001b[39m=\u001b[39m np\u001b[39m.\u001b[39;49marray(params_self)\u001b[39m.\u001b[39;49mmultiply(np\u001b[39m.\u001b[39marray(features))\n",
      "\u001b[1;31mAttributeError\u001b[0m: 'numpy.ndarray' object has no attribute 'multiply'"
     ]
    }
   ],
   "source": [
    "_influencing_profile = np.array(params_self).multiply(np.array(features))"
   ]
  },
  {
   "cell_type": "code",
   "execution_count": 113,
   "metadata": {},
   "outputs": [
    {
     "name": "stdout",
     "output_type": "stream",
     "text": [
      "[array([[0. , 0. , 0. , 0. , 0. , 0. , 0. ],\n",
      "       [0. , 0. , 0. , 0. , 0. , 0. , 0. ],\n",
      "       [0. , 0. , 0.3, 0. , 0. , 0. , 0. ]]), array([[0. , 0. , 0. , 0. , 0. , 0. , 0. ],\n",
      "       [0. , 0. , 0. , 0. , 0. , 0. , 0. ],\n",
      "       [0.5, 0. , 0.3, 0. , 0.3, 0. , 0.3]])]\n"
     ]
    },
    {
     "data": {
      "text/plain": [
       "array([[0. , 0. , 0.3],\n",
       "       [0. , 0. , 1.4]])"
      ]
     },
     "execution_count": 113,
     "metadata": {},
     "output_type": "execute_result"
    }
   ],
   "source": [
    "# TEST creating list of influencing profiles\n",
    "def get_influencing_profile(profile, features):\n",
    "    _influencing_profile = np.multiply(np.array(profile), np.array(features))\n",
    "    masked_neg = np.isin(profile.index, ['veg', 'moving'])\n",
    "    _influencing_profile[masked_neg,:] = 0\n",
    "    return _influencing_profile\n",
    "neigbors1 = pd.DataFrame(data = { 'bs':[1, 0.5, 0],\n",
    "                          'age1' :[0.1, 0.2, 0], \n",
    "                          'age2':[0.1, 0.2, 0.3], \n",
    "                          'vegetarian_no':[0.1, 0.2,0], \n",
    "                          'vegetarian_yes':[0.1,0.2,0],\n",
    "                          'children_no' :[0.1,0.2,0],\n",
    "                          'children_yes':[0.1,0.2,0],\n",
    "                         'actions' : ['moving', 'veg', 'om']}).set_index('actions')\n",
    "neigbors2 = pd.DataFrame(data = { 'bs':[1, 0, 0.5],\n",
    "                          'age1' :[0.1, 0, 0.3], \n",
    "                          'age2':[0.1, 0, 0.3], \n",
    "                          'vegetarian_no':[0.1, 0,0.3], \n",
    "                          'vegetarian_yes':[0.1,0,0.3],\n",
    "                          'children_no' :[0.1,0,0.3],\n",
    "                          'children_yes':[0.3,0,0.3],\n",
    "                         'actions' : ['moving', 'veg', 'om']}).set_index('actions')\n",
    "neighbors = [neigbors1, neigbors2]\n",
    "features = pd.Series([1,0,1,0,1,0,1], index = ['bs', 'age1', 'age2', 'vegetarian_no', 'vegetarian_yes', 'children_no', 'children_yes'])\n",
    "neigbors_pfs = [get_influencing_profile(n, features) for n in neighbors]\n",
    "print(neigbors_pfs)\n",
    "np.array(neigbors_pfs).dot(np.array(features))\n"
   ]
  },
  {
   "cell_type": "code",
   "execution_count": 24,
   "metadata": {},
   "outputs": [
    {
     "data": {
      "text/plain": [
       "0"
      ]
     },
     "execution_count": 24,
     "metadata": {},
     "output_type": "execute_result"
    }
   ],
   "source": [
    "np.argmin([5,6])"
   ]
  },
  {
   "cell_type": "code",
   "execution_count": 45,
   "metadata": {},
   "outputs": [
    {
     "name": "stdout",
     "output_type": "stream",
     "text": [
      "4.3\n"
     ]
    }
   ],
   "source": [
    "import numpy as np\n",
    "\n",
    "a = np.array([[1.3, 1.1, 0.3],\n",
    "              [1.3, 0.0, 1.4]])\n",
    "\n",
    "labels = ['a', 'b', 'c']\n",
    "selected_labels = ['a', 'c']\n",
    "\n",
    "# Create a boolean mask for the selected labels\n",
    "mask = np.isin(labels, selected_labels)\n",
    "\n",
    "# Index the columns based on the mask\n",
    "result = a[:, mask]\n",
    "\n",
    "print(np.sum(result))"
   ]
  },
  {
   "cell_type": "code",
   "execution_count": null,
   "metadata": {},
   "outputs": [
    {
     "data": {
      "text/plain": [
       "array([[[1. , 0.1, 0.1, 0.1, 0.1, 0.1, 0.1],\n",
       "        [0.5, 0.2, 0.2, 0.2, 0.2, 0.2, 0.2],\n",
       "        [0. , 0. , 0.3, 0. , 0. , 0. , 0. ]],\n",
       "\n",
       "       [[1. , 0.1, 0.1, 0.1, 0.1, 0.1, 0.1],\n",
       "        [0. , 0. , 0. , 0. , 0. , 0. , 0. ],\n",
       "        [0.5, 0.3, 0.3, 0.3, 0.3, 0.3, 0.3]]])"
      ]
     },
     "metadata": {},
     "output_type": "display_data"
    }
   ],
   "source": [
    "prfs_a= np.array(prfs)\n",
    "prfs_a"
   ]
  },
  {
   "cell_type": "code",
   "execution_count": 97,
   "metadata": {},
   "outputs": [
    {
     "data": {
      "text/plain": [
       "array([3, 4])"
      ]
     },
     "execution_count": 97,
     "metadata": {},
     "output_type": "execute_result"
    }
   ],
   "source": [
    "(1,2) + np.array([2,2])"
   ]
  },
  {
   "cell_type": "code",
   "execution_count": 74,
   "metadata": {},
   "outputs": [],
   "source": [
    "pos = [tuple([1,2]), tuple([3,4])]"
   ]
  },
  {
   "cell_type": "code",
   "execution_count": 94,
   "metadata": {},
   "outputs": [
    {
     "data": {
      "text/plain": [
       "(3, 0)"
      ]
     },
     "execution_count": 94,
     "metadata": {},
     "output_type": "execute_result"
    }
   ],
   "source": [
    "_week_pos = None\n",
    "for i, nb in enumerate(prfs):\n",
    "    if i == np.argmin(_score_to_move):\n",
    "        _week_pos = pos[i]\n",
    "        _choice = [2,-2]\n",
    "        _path = np.array([random.choice(choice), random.choice(choice)])\n",
    "        move_to_pos = tuple(_week_pos +_path)\n",
    "    break\n",
    "move_to_pos\n"
   ]
  },
  {
   "cell_type": "code",
   "execution_count": 73,
   "metadata": {},
   "outputs": [
    {
     "data": {
      "text/plain": [
       "array([-2, -2])"
      ]
     },
     "execution_count": 73,
     "metadata": {},
     "output_type": "execute_result"
    }
   ],
   "source": [
    "import random\n",
    "choice = [2,-2]\n",
    "path = np.array([random.choice(choice), random.choice(choice)])\n",
    "path"
   ]
  },
  {
   "cell_type": "code",
   "execution_count": 21,
   "metadata": {},
   "outputs": [],
   "source": [
    "from math import log , exp"
   ]
  },
  {
   "cell_type": "code",
   "execution_count": 47,
   "metadata": {},
   "outputs": [],
   "source": [
    "def homophily(p, pi, n):\n",
    "    wi = pi\n",
    "    si = pi*n\n",
    "    di = \n",
    "    hi = ni/(pi +(1-pi)/3 )\n",
    "    return (hi-wi)/(1-wi)"
   ]
  },
  {
   "cell_type": "code",
   "execution_count": 63,
   "metadata": {},
   "outputs": [
    {
     "data": {
      "text/plain": [
       "-0.8472978603872037"
      ]
     },
     "execution_count": 63,
     "metadata": {},
     "output_type": "execute_result"
    }
   ],
   "source": [
    "log(3/7)"
   ]
  },
  {
   "cell_type": "code",
   "execution_count": 62,
   "metadata": {},
   "outputs": [
    {
     "data": {
      "text/plain": [
       "0.2141650169574414"
      ]
     },
     "execution_count": 62,
     "metadata": {},
     "output_type": "execute_result"
    }
   ],
   "source": [
    "get_p(-1.3)"
   ]
  },
  {
   "cell_type": "code",
   "execution_count": 59,
   "metadata": {},
   "outputs": [
    {
     "data": {
      "text/plain": [
       "0.10909682119561294"
      ]
     },
     "execution_count": 59,
     "metadata": {},
     "output_type": "execute_result"
    }
   ],
   "source": [
    "get_p(-2.1)"
   ]
  },
  {
   "cell_type": "code",
   "execution_count": 55,
   "metadata": {},
   "outputs": [
    {
     "data": {
      "text/plain": [
       "0.9525741268224333"
      ]
     },
     "execution_count": 55,
     "metadata": {},
     "output_type": "execute_result"
    }
   ],
   "source": [
    "get_p(3)"
   ]
  },
  {
   "cell_type": "code",
   "execution_count": 49,
   "metadata": {},
   "outputs": [
    {
     "data": {
      "text/plain": [
       "-0.1743533871447778"
      ]
     },
     "execution_count": 49,
     "metadata": {},
     "output_type": "execute_result"
    }
   ],
   "source": [
    "log(0.84)"
   ]
  },
  {
   "cell_type": "code",
   "execution_count": 39,
   "metadata": {},
   "outputs": [
    {
     "data": {
      "text/plain": [
       "11.473040742794833"
      ]
     },
     "execution_count": 39,
     "metadata": {},
     "output_type": "execute_result"
    }
   ],
   "source": [
    "exp(2.44)"
   ]
  },
  {
   "cell_type": "code",
   "execution_count": 40,
   "metadata": {},
   "outputs": [
    {
     "data": {
      "text/plain": [
       "-0.4895482253187058"
      ]
     },
     "execution_count": 40,
     "metadata": {},
     "output_type": "execute_result"
    }
   ],
   "source": [
    "log(38/(100-38))"
   ]
  },
  {
   "cell_type": "code",
   "execution_count": 30,
   "metadata": {},
   "outputs": [
    {
     "data": {
      "text/plain": [
       "1.7227665977411035"
      ]
     },
     "execution_count": 30,
     "metadata": {},
     "output_type": "execute_result"
    }
   ],
   "source": [
    "log(5.6)"
   ]
  },
  {
   "cell_type": "code",
   "execution_count": 24,
   "metadata": {},
   "outputs": [],
   "source": [
    "from math import exp\n",
    "def get_p(sum_betas:float):\n",
    "    '''logit reversed'''\n",
    "    return exp(sum_betas)/(1+exp(sum_betas))"
   ]
  },
  {
   "cell_type": "code",
   "execution_count": 27,
   "metadata": {},
   "outputs": [
    {
     "data": {
      "text/plain": [
       "0.19154534856146752"
      ]
     },
     "execution_count": 27,
     "metadata": {},
     "output_type": "execute_result"
    }
   ],
   "source": [
    "\n",
    "get_p(-1.44)"
   ]
  },
  {
   "cell_type": "code",
   "execution_count": null,
   "metadata": {},
   "outputs": [],
   "source": []
  },
  {
   "cell_type": "code",
   "execution_count": null,
   "metadata": {},
   "outputs": [],
   "source": [
    "import networkx as nx\n",
    "graph = nx.watts_strogatz_graph(\n",
    "    10,\n",
    "    3,\n",
    "    self.p.network_randomness)"
   ]
  }
 ],
 "metadata": {
  "kernelspec": {
   "display_name": "Python 3",
   "language": "python",
   "name": "python3"
  },
  "language_info": {
   "codemirror_mode": {
    "name": "ipython",
    "version": 3
   },
   "file_extension": ".py",
   "mimetype": "text/x-python",
   "name": "python",
   "nbconvert_exporter": "python",
   "pygments_lexer": "ipython3",
   "version": "3.10.2"
  },
  "orig_nbformat": 4
 },
 "nbformat": 4,
 "nbformat_minor": 2
}
