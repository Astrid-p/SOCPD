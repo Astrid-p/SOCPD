{
 "cells": [
  {
   "cell_type": "code",
   "execution_count": 1,
   "metadata": {},
   "outputs": [],
   "source": [
    "\"Set working directory\"\n",
    "import os\n",
    "os.chdir('../')"
   ]
  },
  {
   "cell_type": "code",
   "execution_count": 2,
   "metadata": {},
   "outputs": [],
   "source": [
    "import json\n",
    "import numpy as np\n",
    "import os\n",
    "import pandas as pd\n",
    "\n",
    "\n",
    "from math import exp, log\n",
    "from typing import List, Tuple\n",
    "from tqdm import tqdm\n",
    "\n",
    "from socpd.objects import Object\n",
    "\n",
    "from socpd.agentCM import Populating\n",
    "from socpd.modelCM import Model\n",
    "from socpd.hypothesis import Hypothesis"
   ]
  },
  {
   "cell_type": "code",
   "execution_count": 15,
   "metadata": {},
   "outputs": [],
   "source": [
    "class SocPD(Model, Hypothesis):  \n",
    "    def setup(self) :\n",
    "                # Private variables\n",
    "\n",
    "        # Set-up Hypothesis \n",
    "        Hypo_dict = self.p.Hypothesis_settings #_____________ added\n",
    "        Hypothesis.validate_n_read_hypotheses(Hypo_dict)#__________________added\n",
    "\n",
    "        #call-out hypothesis on actions\n",
    "        self._dir_params = Hypothesis.dir_params\n",
    "        self.status_var = Hypothesis.status_var\n",
    "        \n",
    "        self.all_possible_features = Hypothesis.all_possible_features\n",
    "        \n",
    "        self.self_adopt = Hypothesis.self_adopt\n",
    "        self.homo_neg_adopt = Hypothesis.homo_neg_adopt\n",
    "        self.homo_pos_adopt = Hypothesis.homo_pos_adopt     \n",
    "        self.rules = Hypothesis.rules\n",
    "        \n",
    "        # Set up simple model's params\n",
    "        self.status_quo = 0\n",
    "        self._use_ipf : None = bool\n",
    "        pop = self.pop = self.p['pop']\n",
    "        den = self.p['den']\n",
    "        s = int(np.ceil(np.sqrt(pop/den)))\n",
    "\n",
    "        if 'use_ipf' in self.p:\n",
    "            self._use_ipf = self.p['use_ipf']\n",
    "        else:\n",
    "            self._use_ipf = False  #_____________ changed\n",
    "        self.report('use_ipf', self._use_ipf) #___________changed\n",
    "        #self.Hypothesis_settings = self.p.Hypothesis_settings\n",
    "\n",
    "        # generate features then update agent's features and status\n",
    "        self.Populating = Populating(self)\n",
    "        if self._use_ipf: #___________ changed\n",
    "            _feature_iter = self.Populating.populate_ipf(self._dir_params, pop)\n",
    "        else:\n",
    "            _feature_iter = self.Populating.populate_simple(self._dir_params, pop)        \n",
    "            # update agent's features \n",
    "        self.features_list = _feature_iter\n",
    "    def update(self): \n",
    "        print(self._use_ipf)\n",
    "        print(np.array(Hypothesis.rules['actions_to_self']).dot(np.array(self.features_list[2])))\n",
    "        "
   ]
  },
  {
   "cell_type": "code",
   "execution_count": 16,
   "metadata": {},
   "outputs": [],
   "source": [
    "dir_params = 'parameters_demo'\n",
    "all_possible_actions=  ['Veg_prob',\n",
    "                        'influencing_Veg',\n",
    "                        'Influencing_Om',\n",
    "                        'nw_satisfaction',\n",
    "                        'homophily_bonding',\n",
    "                        'media_influence',\n",
    "                        'nw_attachement',\n",
    "                        'concerns_environement',\n",
    "                        'concerns_animal_welfare',\n",
    "                        'concerns_health']\n",
    "\n",
    "Hypothesis_settings = { 'dir_params' : dir_params , # folder name stored actions parameters\n",
    "                        'status_var':'Vegetarian',  # the variables deciding agents' status\n",
    "                        # all actions from the actions parameters\n",
    "                        'all_possible_actions':all_possible_actions,\n",
    "                        # all actions/events influencing directly on the agent\n",
    "                        'actions_to_self':['veg_prob', \n",
    "                                           'nw_satisfaction',\n",
    "                                           'media_influence',\n",
    "                                           'nw_attachement',\n",
    "                                            'concerns_environement',\n",
    "                                            'concerns_animal_welfare',\n",
    "                                            'concerns_health'],\n",
    "                        # all actions/events from the agent influencing on others in thier networks\n",
    "                        'actions_to_nw':['influencing_Veg', \n",
    "                                         'influencing_Om',\n",
    "                                         'homophily_bonding'],\n",
    "                        # actions/events influencing directly on the agent's decision to adopt\n",
    "                        'actions_to_self_adopt':['veg_prob',        \n",
    "                                                 'media_influence',\n",
    "                                            'concerns_environement',\n",
    "                                            'concerns_animal_welfare',\n",
    "                                            'concerns_health'],\n",
    "                        # actions/events from the agents having negative effects on thier networks \n",
    "                        'actions_to_nw_neg_adopt':['influencing_Om'],\n",
    "                        # actions/events from the agents having positive effects on thier networks \n",
    "                        'actions_to_nw_pos_adopt':['influencing_Veg'],\n",
    "                        # actions/events to decide the strength of the ties\n",
    "                        'actions_strength_of_tie':['nw_satisfaction', \n",
    "                                                   'homophily_bonding',\n",
    "                                                   'nw_attachement'], }\n",
    "\n",
    "\n",
    "parameters = {'Hypothesis_settings' : Hypothesis_settings,\n",
    "            'pop' : 1000,\n",
    "            'den': .75,\n",
    "            'steps': 1,\n",
    "            'seed' : 42,\n",
    "            'env_beta': 2.0\n",
    "            #'use_ipf': True,\n",
    "            } "
   ]
  },
  {
   "cell_type": "code",
   "execution_count": 17,
   "metadata": {},
   "outputs": [
    {
     "name": "stderr",
     "output_type": "stream",
     "text": [
      "Populating individuals:   0%|          | 0/1000 [00:00<?, ?i/s]"
     ]
    },
    {
     "name": "stderr",
     "output_type": "stream",
     "text": [
      "Populating individuals: 100%|██████████| 1000/1000 [00:00<00:00, 10586.06i/s]"
     ]
    },
    {
     "name": "stdout",
     "output_type": "stream",
     "text": [
      "False\n",
      "[1.32   2.68   0.0545 0.073  0.0215 0.0185 0.022 ]\n",
      "False\n",
      "[1.32   2.68   0.0545 0.073  0.0215 0.0185 0.022 ]\n",
      "Completed: 1 steps\n",
      "Run time: 0:00:00.131922\n",
      "Simulation finished\n"
     ]
    },
    {
     "name": "stderr",
     "output_type": "stream",
     "text": [
      "\n"
     ]
    }
   ],
   "source": [
    "model = SocPD(parameters)\n",
    "result = model.run(\n",
    "    \n",
    ")"
   ]
  },
  {
   "cell_type": "code",
   "execution_count": null,
   "metadata": {},
   "outputs": [],
   "source": [
    "dir_params = 'parameters_demo'\n",
    "all_possible_actions=  ['Veg_prob',\n",
    "                        'influencing_Veg',\n",
    "                        'Influencing_Om',\n",
    "                        'nw_satisfaction',\n",
    "                        'homophily_bonding',\n",
    "                        'media_influence',\n",
    "                        'nw_attachement',\n",
    "                        'concerns_environement',\n",
    "                        'concerns_animal_welfare',\n",
    "                        'concerns_health']\n",
    "\n",
    "Hypothesis_settings = { 'dir_params' : dir_params , # folder name stored actions parameters\n",
    "                        'status_var':'Vegetarian',  # the variables deciding agents' status\n",
    "                        # all actions from the actions parameters\n",
    "                        'all_possible_actions':all_possible_actions,\n",
    "                        # all actions/events influencing directly on the agent\n",
    "                        'actions_to_self':['veg_prob', \n",
    "                                           'nw_satisfaction',\n",
    "                                           'media_influence',\n",
    "                                           'nw_attachement',\n",
    "                                            'concerns_environement',\n",
    "                                            'concerns_animal_welfare',\n",
    "                                            'concerns_health'],\n",
    "                        # all actions/events from the agent influencing on others in thier networks\n",
    "                        'actions_to_nw':['influencing_Veg', \n",
    "                                         'influencing_Om',\n",
    "                                         'homophily_bonding'],\n",
    "                        # actions/events influencing directly on the agent's decision to adopt\n",
    "                        'actions_to_self_adopt':['veg_prob',        \n",
    "                                                 'media_influence',\n",
    "                                            'concerns_environement',\n",
    "                                            'concerns_animal_welfare',\n",
    "                                            'concerns_health'],\n",
    "                        # actions/events from the agents having negative effects on thier networks \n",
    "                        'actions_to_nw_neg_adopt':['influencing_Om'],\n",
    "                        # actions/events from the agents having positive effects on thier networks \n",
    "                        'actions_to_nw_pos_adopt':['influencing_Veg'],\n",
    "                        # actions/events to decide the strength of the ties\n",
    "                        'actions_strength_of_tie':['nw_satisfaction', \n",
    "                                                   'homophily_bonding',\n",
    "                                                   'nw_attachement'], }\n",
    "\n",
    "Hypothesis.validate_n_read_hypotheses(Hypothesis_settings)"
   ]
  }
 ],
 "metadata": {
  "kernelspec": {
   "display_name": "Python 3",
   "language": "python",
   "name": "python3"
  },
  "language_info": {
   "codemirror_mode": {
    "name": "ipython",
    "version": 3
   },
   "file_extension": ".py",
   "mimetype": "text/x-python",
   "name": "python",
   "nbconvert_exporter": "python",
   "pygments_lexer": "ipython3",
   "version": "3.10.11"
  },
  "orig_nbformat": 4
 },
 "nbformat": 4,
 "nbformat_minor": 2
}
