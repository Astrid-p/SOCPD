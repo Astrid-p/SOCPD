{
 "cells": [
  {
   "cell_type": "code",
   "execution_count": 1,
   "metadata": {},
   "outputs": [],
   "source": [
    "\"\"\"Set working directory\"\"\"\n",
    "import os\n",
    "os.chdir('../')\n"
   ]
  },
  {
   "cell_type": "code",
   "execution_count": 2,
   "metadata": {},
   "outputs": [],
   "source": [
    "import numpy as np\n",
    "import pandas as pd\n",
    "import pickle \n",
    "from ipfn import ipfn\n",
    "from socpd.ipf_input_processing_np import processing_single_data, processing_crosstab_data, get_ifp_input"
   ]
  },
  {
   "cell_type": "code",
   "execution_count": 3,
   "metadata": {},
   "outputs": [],
   "source": [
    "# processing/collecting single distribution variable distribution\n",
    "single_xls = \"data/single_variable.xlsx\"\n",
    "out_txt_folder_single = \"data/single_txt\" \n",
    "parameter_folder = \"parameters\"\n",
    "single_distribution = processing_single_data(single_xls, out_txt_folder_single, parameter_folder)\n",
    "\n",
    "# processing/collecting crosstab distribution data \n",
    "\n",
    "cross_tab_xls = \"data/cleaned_crosstab.xlsx\"\n",
    "out_txt_folder_crosstab = \"data/crosstab_txt\"\n",
    "crosstab_distribution = processing_crosstab_data(cross_tab_xls, out_txt_folder_crosstab, single_distribution)\n"
   ]
  },
  {
   "cell_type": "code",
   "execution_count": 4,
   "metadata": {},
   "outputs": [],
   "source": [
    "# get input for ipf\n",
    "\n",
    "single_proportions = single_distribution[\"cat_proportion\"]\n",
    "crosstab_proportion_matrices = crosstab_distribution[\"crosstab_proportion_matrices\"]\n",
    "keymap, cat_keymap, m, aggregates, dimensions = get_ifp_input(single_proportions, crosstab_proportion_matrices)\n"
   ]
  },
  {
   "cell_type": "code",
   "execution_count": 5,
   "metadata": {},
   "outputs": [
    {
     "name": "stdout",
     "output_type": "stream",
     "text": [
      "Maximum iterations reached\n",
      "sum values of original ipf matrix 99.99999999999984\n",
      "adjusted sum values 1.000000000000002\n"
     ]
    }
   ],
   "source": [
    "IPF = ipfn.ipfn(m, aggregates, dimensions, max_iteration = 20)\n",
    "m = IPF.iteration()\n"
   ]
  },
  {
   "cell_type": "code",
   "execution_count": 6,
   "metadata": {},
   "outputs": [],
   "source": [
    "with open('parameters/ipf_weight_matrix.pickle', 'wb') as handle:\n",
    "    pickle.dump(m, handle, protocol=pickle.HIGHEST_PROTOCOL)\n",
    "\n",
    "with open('parameters/ipf_keymaps.pickle', 'wb') as handle:\n",
    "    pickle.dump((keymap, cat_keymap), handle, protocol=pickle.HIGHEST_PROTOCOL)"
   ]
  },
  {
   "cell_type": "code",
   "execution_count": null,
   "metadata": {},
   "outputs": [],
   "source": []
  }
 ],
 "metadata": {
  "kernelspec": {
   "display_name": "Python 3",
   "language": "python",
   "name": "python3"
  },
  "language_info": {
   "codemirror_mode": {
    "name": "ipython",
    "version": 3
   },
   "file_extension": ".py",
   "mimetype": "text/x-python",
   "name": "python",
   "nbconvert_exporter": "python",
   "pygments_lexer": "ipython3",
   "version": "3.10.2"
  }
 },
 "nbformat": 4,
 "nbformat_minor": 2
}
